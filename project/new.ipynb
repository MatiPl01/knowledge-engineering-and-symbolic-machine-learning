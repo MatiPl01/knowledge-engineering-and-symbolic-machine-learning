{
 "cells": [
  {
   "cell_type": "code",
   "execution_count": 17,
   "metadata": {},
   "outputs": [],
   "source": [
    "# import librosa\n",
    "# import os\n",
    "# import numpy as np\n",
    "\n",
    "# # Define dataset paths\n",
    "# train_questions_path = \"cleaned_dataset/train/questions\"\n",
    "# train_others_path    = \"cleaned_dataset/train/others\"\n",
    "# test_questions_path  = \"cleaned_dataset/test/questions\"\n",
    "# test_others_path     = \"cleaned_dataset/test/others\"\n",
    "\n",
    "# # Gather file lists\n",
    "# train_q_files = [os.path.join(train_questions_path, f) for f in os.listdir(train_questions_path) if f.endswith('.wav')]\n",
    "# train_o_files = [os.path.join(train_others_path, f) for f in os.listdir(train_others_path) if f.endswith('.wav')]\n",
    "# test_q_files  = [os.path.join(test_questions_path, f) for f in os.listdir(test_questions_path) if f.endswith('.wav')]\n",
    "# test_o_files  = [os.path.join(test_others_path, f) for f in os.listdir(test_others_path) if f.endswith('.wav')]\n",
    "\n",
    "# print(f\"Number of training question files: {len(train_q_files)}\")\n",
    "# print(f\"Number of training other files: {len(train_o_files)}\")\n",
    "# print(f\"Number of testing question files: {len(test_q_files)}\")\n",
    "# print(f\"Number of testing other files: {len(test_o_files)}\")\n",
    "\n",
    "# # Compute duration (seconds) for each file in training set\n",
    "# train_q_durations = []\n",
    "# train_o_durations = []\n",
    "# for file in train_q_files:\n",
    "#     y, sr = librosa.load(file, sr=None)  # use original sampling rate\n",
    "#     train_q_durations.append(len(y)/sr)\n",
    "# for file in train_o_files:\n",
    "#     y, sr = librosa.load(file, sr=None)\n",
    "#     train_o_durations.append(len(y)/sr)\n",
    "\n",
    "# print(f\"Average duration - Questions: {np.mean(train_q_durations):.2f} s\")\n",
    "# print(f\"Average duration - Others:    {np.mean(train_o_durations):.2f} s\")\n",
    "# print(f\"Max duration - Questions: {np.max(train_q_durations):.2f} s\")\n",
    "# print(f\"Max duration - Others:    {np.max(train_o_durations):.2f} s\")"
   ]
  },
  {
   "cell_type": "code",
   "execution_count": 18,
   "metadata": {},
   "outputs": [],
   "source": [
    "# import matplotlib.pyplot as plt\n",
    "# import librosa.display\n",
    "\n",
    "# # Pick one example from each category\n",
    "# example_q_file = train_q_files[0]\n",
    "# example_o_file = train_o_files[0]\n",
    "\n",
    "# # Load audio examples (convert to mono if not already)\n",
    "# y_q, sr_q = librosa.load(example_q_file, sr=None)\n",
    "# y_o, sr_o = librosa.load(example_o_file, sr=None)\n",
    "\n",
    "# # Compute spectrograms (magnitude of STFT)\n",
    "# D_q = np.abs(librosa.stft(y_q, n_fft=1024, hop_length=512))\n",
    "# D_o = np.abs(librosa.stft(y_o, n_fft=1024, hop_length=512))\n",
    "# # Convert to dB scale for visualization\n",
    "# D_q_db = librosa.amplitude_to_db(D_q, ref=np.max)\n",
    "# D_o_db = librosa.amplitude_to_db(D_o, ref=np.max)\n",
    "\n",
    "# # Plot side by side\n",
    "# fig, axes = plt.subplots(1, 2, figsize=(10, 4))\n",
    "# librosa.display.specshow(\n",
    "#     D_q_db, sr=sr_q, hop_length=512, x_axis=\"time\", y_axis=\"hz\", ax=axes[0]\n",
    "# )\n",
    "# axes[0].set_title(\"Question Example\")\n",
    "# librosa.display.specshow(\n",
    "#     D_o_db, sr=sr_o, hop_length=512, x_axis=\"time\", y_axis=\"hz\", ax=axes[1]\n",
    "# )\n",
    "# axes[1].set_title(\"Statement Example\")\n",
    "# plt.colorbar(\n",
    "#     librosa.display.specshow(D_o_db, sr=sr_o, hop_length=512),\n",
    "#     ax=axes,\n",
    "#     format=\"%+2.0f dB\",\n",
    "# )\n",
    "# plt.tight_layout()\n",
    "# plt.show()"
   ]
  },
  {
   "cell_type": "code",
   "execution_count": 19,
   "metadata": {},
   "outputs": [],
   "source": [
    "# # Compute average spectral centroid for each file, then average by class\n",
    "# centroid_q = []\n",
    "# centroid_o = []\n",
    "# for file in train_q_files:\n",
    "#     y, sr = librosa.load(file, sr=None)\n",
    "#     cent = librosa.feature.spectral_centroid(y=y, sr=sr)\n",
    "#     centroid_q.append(np.mean(cent))\n",
    "# for file in train_o_files:\n",
    "#     y, sr = librosa.load(file, sr=None)\n",
    "#     cent = librosa.feature.spectral_centroid(y=y, sr=sr)\n",
    "#     centroid_o.append(np.mean(cent))\n",
    "\n",
    "# print(f\"Mean spectral centroid (Questions): {np.mean(centroid_q):.1f} Hz\")\n",
    "# print(f\"Mean spectral centroid (Others):    {np.mean(centroid_o):.1f} Hz\")"
   ]
  },
  {
   "cell_type": "code",
   "execution_count": 20,
   "metadata": {},
   "outputs": [],
   "source": [
    "# # Feature extraction: MFCCs for each audio\n",
    "# def extract_features(file_path, sr=16000, n_mfcc=13):\n",
    "#     # Load audio to a fixed sampling rate\n",
    "#     y, sr = librosa.load(file_path, sr=sr)\n",
    "#     # Compute MFCCs\n",
    "#     mfcc = librosa.feature.mfcc(y=y, sr=sr, n_mfcc=n_mfcc)\n",
    "#     # Take the mean and standard deviation of each coefficient over time\n",
    "#     mfcc_mean = mfcc.mean(axis=1)\n",
    "#     mfcc_std = mfcc.std(axis=1)\n",
    "#     # Concatenate mean and std to get a feature vector\n",
    "#     feat_vector = np.concatenate([mfcc_mean, mfcc_std])\n",
    "#     return feat_vector\n",
    "\n",
    "\n",
    "# # Prepare training feature matrix X and labels y\n",
    "# X_train = []\n",
    "# y_train = []\n",
    "# for file in train_q_files:\n",
    "#     X_train.append(extract_features(file))\n",
    "#     y_train.append(1)  # label 1 for question\n",
    "# for file in train_o_files:\n",
    "#     X_train.append(extract_features(file))\n",
    "#     y_train.append(0)  # label 0 for other\n",
    "\n",
    "# X_train = np.array(X_train)\n",
    "# y_train = np.array(y_train)\n",
    "\n",
    "# print(\"Training feature matrix shape:\", X_train.shape)"
   ]
  },
  {
   "cell_type": "code",
   "execution_count": 25,
   "metadata": {},
   "outputs": [],
   "source": [
    "# # Prepare testing feature matrix and labels\n",
    "# X_test = []\n",
    "# y_test = []\n",
    "# for file in test_q_files:\n",
    "#     X_test.append(extract_features(file))\n",
    "#     y_test.append(1)\n",
    "# for file in test_o_files:\n",
    "#     X_test.append(extract_features(file))\n",
    "#     y_test.append(0)\n",
    "\n",
    "# X_test = np.array(X_test)\n",
    "# y_test = np.array(y_test)\n",
    "# print(\"Testing feature matrix shape:\", X_test.shape)"
   ]
  },
  {
   "cell_type": "code",
   "execution_count": 26,
   "metadata": {},
   "outputs": [],
   "source": [
    "# from sklearn.preprocessing import StandardScaler\n",
    "\n",
    "# scaler = StandardScaler()\n",
    "# X_train_scaled = scaler.fit_transform(X_train)\n",
    "# X_test_scaled = scaler.transform(X_test)"
   ]
  },
  {
   "cell_type": "code",
   "execution_count": 27,
   "metadata": {},
   "outputs": [],
   "source": [
    "# from sklearn.linear_model import LogisticRegression\n",
    "\n",
    "# # Initialize logistic regression; use a high max_iter for convergence\n",
    "# clf = LogisticRegression(max_iter=1000, random_state=42)\n",
    "# clf.fit(X_train_scaled, y_train)\n",
    "\n",
    "# # Evaluate on training set (to check for overfitting)\n",
    "# train_preds = clf.predict(X_train_scaled)\n",
    "# train_acc = np.mean(train_preds == y_train)\n",
    "# print(f\"Training accuracy: {train_acc*100:.2f}%\")"
   ]
  },
  {
   "cell_type": "code",
   "execution_count": 29,
   "metadata": {},
   "outputs": [],
   "source": [
    "# # Evaluate on test set\n",
    "# test_preds = clf.predict(X_test_scaled)\n",
    "# test_acc = np.mean(test_preds == y_test)\n",
    "# print(f\"Test accuracy: {test_acc*100:.2f}%\")"
   ]
  },
  {
   "cell_type": "code",
   "execution_count": 30,
   "metadata": {},
   "outputs": [],
   "source": [
    "# from sklearn.metrics import confusion_matrix, classification_report\n",
    "\n",
    "# cm = confusion_matrix(y_test, test_preds)\n",
    "# print(\"Confusion Matrix (labels: [Others, Questions]):\")\n",
    "# print(cm)\n",
    "# print(\"\\nClassification Report:\")\n",
    "# print(classification_report(y_test, test_preds, target_names=[\"Other\", \"Question\"]))"
   ]
  },
  {
   "cell_type": "code",
   "execution_count": null,
   "metadata": {},
   "outputs": [],
   "source": []
  },
  {
   "cell_type": "code",
   "execution_count": null,
   "metadata": {},
   "outputs": [],
   "source": []
  },
  {
   "cell_type": "code",
   "execution_count": 31,
   "metadata": {},
   "outputs": [
    {
     "name": "stdout",
     "output_type": "stream",
     "text": [
      "Training set spectrograms shape: (10273, 128, 108, 1) Training labels shape: (10273,)\n",
      "Test set spectrograms shape: (7145, 128, 108, 1) Test labels shape: (7145,)\n"
     ]
    }
   ],
   "source": [
    "import os\n",
    "import numpy as np\n",
    "import librosa\n",
    "\n",
    "# Parameters for audio processing\n",
    "SR = 22050  # Sample rate for audio\n",
    "DURATION = 2.5  # Target duration for each clip in seconds\n",
    "N_MELS = 128  # Number of Mel frequency bands for the spectrogram\n",
    "\n",
    "# Calculate the number of samples for the given duration\n",
    "max_samples = int(SR * DURATION)\n",
    "\n",
    "\n",
    "def extract_mel_spectrogram(file_path, sr=SR, duration=DURATION, n_mels=N_MELS):\n",
    "    \"\"\"Load an audio file, pad/trim to fixed duration, and return a normalized Mel spectrogram.\"\"\"\n",
    "    # Load audio file in mono\n",
    "    y, sr = librosa.load(file_path, sr=sr)\n",
    "    # Pad or trim audio to the desired length\n",
    "    if len(y) < max_samples:\n",
    "        # Pad with zeros if shorter\n",
    "        padding = max_samples - len(y)\n",
    "        y = np.pad(y, (0, padding), mode=\"constant\")\n",
    "    else:\n",
    "        # Trim to exact desired length\n",
    "        y = y[:max_samples]\n",
    "    # Compute Mel spectrogram (power spectrogram by default)\n",
    "    mel_spec = librosa.feature.melspectrogram(\n",
    "        y=y, sr=sr, n_mels=n_mels  # keyword-only in librosa ≥ 0.10\n",
    "    )\n",
    "    # Convert to log scale (decibels). Use the peak power as reference.\n",
    "    mel_db = librosa.power_to_db(mel_spec, ref=np.max)\n",
    "    # Normalize the spectrogram to 0-1 range\n",
    "    mel_db_norm = (mel_db - mel_db.min()) / (mel_db.max() - mel_db.min() + 1e-6)\n",
    "    return mel_db_norm\n",
    "\n",
    "\n",
    "# Paths to training and testing folders\n",
    "train_question_path = \"cleaned_dataset/train/questions\"\n",
    "train_other_path = \"cleaned_dataset/train/others\"\n",
    "test_question_path = \"cleaned_dataset/test/questions\"\n",
    "test_other_path = \"cleaned_dataset/test/others\"\n",
    "\n",
    "X_train = []\n",
    "y_train = []\n",
    "\n",
    "# Process all training question audio files\n",
    "for filename in os.listdir(train_question_path):\n",
    "    if filename.endswith(\".wav\"):\n",
    "        file_path = os.path.join(train_question_path, filename)\n",
    "        mel_spect = extract_mel_spectrogram(file_path)\n",
    "        X_train.append(mel_spect)\n",
    "        y_train.append(1)  # label 1 for question\n",
    "\n",
    "# Process all training other audio files\n",
    "for filename in os.listdir(train_other_path):\n",
    "    if filename.endswith(\".wav\"):\n",
    "        file_path = os.path.join(train_other_path, filename)\n",
    "        mel_spect = extract_mel_spectrogram(file_path)\n",
    "        X_train.append(mel_spect)\n",
    "        y_train.append(0)  # label 0 for other (non-question)\n",
    "\n",
    "# Convert lists to numpy arrays\n",
    "X_train = np.array(X_train)\n",
    "y_train = np.array(y_train)\n",
    "\n",
    "# Add channel dimension to X (for CNN input)\n",
    "X_train = X_train[..., np.newaxis].astype(\"float32\")\n",
    "print(\n",
    "    \"Training set spectrograms shape:\",\n",
    "    X_train.shape,\n",
    "    \"Training labels shape:\",\n",
    "    y_train.shape,\n",
    ")\n",
    "\n",
    "# Repeat the same steps for the test set\n",
    "X_test = []\n",
    "y_test = []\n",
    "\n",
    "# Process testing question files\n",
    "for filename in os.listdir(test_question_path):\n",
    "    if filename.endswith(\".wav\"):\n",
    "        file_path = os.path.join(test_question_path, filename)\n",
    "        mel_spect = extract_mel_spectrogram(file_path)\n",
    "        X_test.append(mel_spect)\n",
    "        y_test.append(1)  # question label\n",
    "\n",
    "# Process testing other files\n",
    "for filename in os.listdir(test_other_path):\n",
    "    if filename.endswith(\".wav\"):\n",
    "        file_path = os.path.join(test_other_path, filename)\n",
    "        mel_spect = extract_mel_spectrogram(file_path)\n",
    "        X_test.append(mel_spect)\n",
    "        y_test.append(0)  # other label\n",
    "\n",
    "X_test = np.array(X_test)\n",
    "y_test = np.array(y_test)\n",
    "X_test = X_test[..., np.newaxis].astype(\"float32\")\n",
    "print(\"Test set spectrograms shape:\", X_test.shape, \"Test labels shape:\", y_test.shape)"
   ]
  },
  {
   "cell_type": "code",
   "execution_count": 32,
   "metadata": {},
   "outputs": [
    {
     "name": "stderr",
     "output_type": "stream",
     "text": [
      "/Users/mateu/Education/sem8/ml/project/venv/lib/python3.11/site-packages/keras/src/layers/convolutional/base_conv.py:113: UserWarning: Do not pass an `input_shape`/`input_dim` argument to a layer. When using Sequential models, prefer using an `Input(shape)` object as the first layer in the model instead.\n",
      "  super().__init__(activity_regularizer=activity_regularizer, **kwargs)\n"
     ]
    },
    {
     "data": {
      "text/html": [
       "<pre style=\"white-space:pre;overflow-x:auto;line-height:normal;font-family:Menlo,'DejaVu Sans Mono',consolas,'Courier New',monospace\"><span style=\"font-weight: bold\">Model: \"sequential\"</span>\n",
       "</pre>\n"
      ],
      "text/plain": [
       "\u001b[1mModel: \"sequential\"\u001b[0m\n"
      ]
     },
     "metadata": {},
     "output_type": "display_data"
    },
    {
     "data": {
      "text/html": [
       "<pre style=\"white-space:pre;overflow-x:auto;line-height:normal;font-family:Menlo,'DejaVu Sans Mono',consolas,'Courier New',monospace\">┏━━━━━━━━━━━━━━━━━━━━━━━━━━━━━━━━━┳━━━━━━━━━━━━━━━━━━━━━━━━┳━━━━━━━━━━━━━━━┓\n",
       "┃<span style=\"font-weight: bold\"> Layer (type)                    </span>┃<span style=\"font-weight: bold\"> Output Shape           </span>┃<span style=\"font-weight: bold\">       Param # </span>┃\n",
       "┡━━━━━━━━━━━━━━━━━━━━━━━━━━━━━━━━━╇━━━━━━━━━━━━━━━━━━━━━━━━╇━━━━━━━━━━━━━━━┩\n",
       "│ conv2d (<span style=\"color: #0087ff; text-decoration-color: #0087ff\">Conv2D</span>)                 │ (<span style=\"color: #00d7ff; text-decoration-color: #00d7ff\">None</span>, <span style=\"color: #00af00; text-decoration-color: #00af00\">128</span>, <span style=\"color: #00af00; text-decoration-color: #00af00\">108</span>, <span style=\"color: #00af00; text-decoration-color: #00af00\">32</span>)   │           <span style=\"color: #00af00; text-decoration-color: #00af00\">320</span> │\n",
       "├─────────────────────────────────┼────────────────────────┼───────────────┤\n",
       "│ max_pooling2d (<span style=\"color: #0087ff; text-decoration-color: #0087ff\">MaxPooling2D</span>)    │ (<span style=\"color: #00d7ff; text-decoration-color: #00d7ff\">None</span>, <span style=\"color: #00af00; text-decoration-color: #00af00\">64</span>, <span style=\"color: #00af00; text-decoration-color: #00af00\">54</span>, <span style=\"color: #00af00; text-decoration-color: #00af00\">32</span>)     │             <span style=\"color: #00af00; text-decoration-color: #00af00\">0</span> │\n",
       "├─────────────────────────────────┼────────────────────────┼───────────────┤\n",
       "│ conv2d_1 (<span style=\"color: #0087ff; text-decoration-color: #0087ff\">Conv2D</span>)               │ (<span style=\"color: #00d7ff; text-decoration-color: #00d7ff\">None</span>, <span style=\"color: #00af00; text-decoration-color: #00af00\">64</span>, <span style=\"color: #00af00; text-decoration-color: #00af00\">54</span>, <span style=\"color: #00af00; text-decoration-color: #00af00\">64</span>)     │        <span style=\"color: #00af00; text-decoration-color: #00af00\">18,496</span> │\n",
       "├─────────────────────────────────┼────────────────────────┼───────────────┤\n",
       "│ max_pooling2d_1 (<span style=\"color: #0087ff; text-decoration-color: #0087ff\">MaxPooling2D</span>)  │ (<span style=\"color: #00d7ff; text-decoration-color: #00d7ff\">None</span>, <span style=\"color: #00af00; text-decoration-color: #00af00\">32</span>, <span style=\"color: #00af00; text-decoration-color: #00af00\">27</span>, <span style=\"color: #00af00; text-decoration-color: #00af00\">64</span>)     │             <span style=\"color: #00af00; text-decoration-color: #00af00\">0</span> │\n",
       "├─────────────────────────────────┼────────────────────────┼───────────────┤\n",
       "│ flatten (<span style=\"color: #0087ff; text-decoration-color: #0087ff\">Flatten</span>)               │ (<span style=\"color: #00d7ff; text-decoration-color: #00d7ff\">None</span>, <span style=\"color: #00af00; text-decoration-color: #00af00\">55296</span>)          │             <span style=\"color: #00af00; text-decoration-color: #00af00\">0</span> │\n",
       "├─────────────────────────────────┼────────────────────────┼───────────────┤\n",
       "│ dense (<span style=\"color: #0087ff; text-decoration-color: #0087ff\">Dense</span>)                   │ (<span style=\"color: #00d7ff; text-decoration-color: #00d7ff\">None</span>, <span style=\"color: #00af00; text-decoration-color: #00af00\">64</span>)             │     <span style=\"color: #00af00; text-decoration-color: #00af00\">3,539,008</span> │\n",
       "├─────────────────────────────────┼────────────────────────┼───────────────┤\n",
       "│ dropout (<span style=\"color: #0087ff; text-decoration-color: #0087ff\">Dropout</span>)               │ (<span style=\"color: #00d7ff; text-decoration-color: #00d7ff\">None</span>, <span style=\"color: #00af00; text-decoration-color: #00af00\">64</span>)             │             <span style=\"color: #00af00; text-decoration-color: #00af00\">0</span> │\n",
       "├─────────────────────────────────┼────────────────────────┼───────────────┤\n",
       "│ dense_1 (<span style=\"color: #0087ff; text-decoration-color: #0087ff\">Dense</span>)                 │ (<span style=\"color: #00d7ff; text-decoration-color: #00d7ff\">None</span>, <span style=\"color: #00af00; text-decoration-color: #00af00\">1</span>)              │            <span style=\"color: #00af00; text-decoration-color: #00af00\">65</span> │\n",
       "└─────────────────────────────────┴────────────────────────┴───────────────┘\n",
       "</pre>\n"
      ],
      "text/plain": [
       "┏━━━━━━━━━━━━━━━━━━━━━━━━━━━━━━━━━┳━━━━━━━━━━━━━━━━━━━━━━━━┳━━━━━━━━━━━━━━━┓\n",
       "┃\u001b[1m \u001b[0m\u001b[1mLayer (type)                   \u001b[0m\u001b[1m \u001b[0m┃\u001b[1m \u001b[0m\u001b[1mOutput Shape          \u001b[0m\u001b[1m \u001b[0m┃\u001b[1m \u001b[0m\u001b[1m      Param #\u001b[0m\u001b[1m \u001b[0m┃\n",
       "┡━━━━━━━━━━━━━━━━━━━━━━━━━━━━━━━━━╇━━━━━━━━━━━━━━━━━━━━━━━━╇━━━━━━━━━━━━━━━┩\n",
       "│ conv2d (\u001b[38;5;33mConv2D\u001b[0m)                 │ (\u001b[38;5;45mNone\u001b[0m, \u001b[38;5;34m128\u001b[0m, \u001b[38;5;34m108\u001b[0m, \u001b[38;5;34m32\u001b[0m)   │           \u001b[38;5;34m320\u001b[0m │\n",
       "├─────────────────────────────────┼────────────────────────┼───────────────┤\n",
       "│ max_pooling2d (\u001b[38;5;33mMaxPooling2D\u001b[0m)    │ (\u001b[38;5;45mNone\u001b[0m, \u001b[38;5;34m64\u001b[0m, \u001b[38;5;34m54\u001b[0m, \u001b[38;5;34m32\u001b[0m)     │             \u001b[38;5;34m0\u001b[0m │\n",
       "├─────────────────────────────────┼────────────────────────┼───────────────┤\n",
       "│ conv2d_1 (\u001b[38;5;33mConv2D\u001b[0m)               │ (\u001b[38;5;45mNone\u001b[0m, \u001b[38;5;34m64\u001b[0m, \u001b[38;5;34m54\u001b[0m, \u001b[38;5;34m64\u001b[0m)     │        \u001b[38;5;34m18,496\u001b[0m │\n",
       "├─────────────────────────────────┼────────────────────────┼───────────────┤\n",
       "│ max_pooling2d_1 (\u001b[38;5;33mMaxPooling2D\u001b[0m)  │ (\u001b[38;5;45mNone\u001b[0m, \u001b[38;5;34m32\u001b[0m, \u001b[38;5;34m27\u001b[0m, \u001b[38;5;34m64\u001b[0m)     │             \u001b[38;5;34m0\u001b[0m │\n",
       "├─────────────────────────────────┼────────────────────────┼───────────────┤\n",
       "│ flatten (\u001b[38;5;33mFlatten\u001b[0m)               │ (\u001b[38;5;45mNone\u001b[0m, \u001b[38;5;34m55296\u001b[0m)          │             \u001b[38;5;34m0\u001b[0m │\n",
       "├─────────────────────────────────┼────────────────────────┼───────────────┤\n",
       "│ dense (\u001b[38;5;33mDense\u001b[0m)                   │ (\u001b[38;5;45mNone\u001b[0m, \u001b[38;5;34m64\u001b[0m)             │     \u001b[38;5;34m3,539,008\u001b[0m │\n",
       "├─────────────────────────────────┼────────────────────────┼───────────────┤\n",
       "│ dropout (\u001b[38;5;33mDropout\u001b[0m)               │ (\u001b[38;5;45mNone\u001b[0m, \u001b[38;5;34m64\u001b[0m)             │             \u001b[38;5;34m0\u001b[0m │\n",
       "├─────────────────────────────────┼────────────────────────┼───────────────┤\n",
       "│ dense_1 (\u001b[38;5;33mDense\u001b[0m)                 │ (\u001b[38;5;45mNone\u001b[0m, \u001b[38;5;34m1\u001b[0m)              │            \u001b[38;5;34m65\u001b[0m │\n",
       "└─────────────────────────────────┴────────────────────────┴───────────────┘\n"
      ]
     },
     "metadata": {},
     "output_type": "display_data"
    },
    {
     "data": {
      "text/html": [
       "<pre style=\"white-space:pre;overflow-x:auto;line-height:normal;font-family:Menlo,'DejaVu Sans Mono',consolas,'Courier New',monospace\"><span style=\"font-weight: bold\"> Total params: </span><span style=\"color: #00af00; text-decoration-color: #00af00\">3,557,889</span> (13.57 MB)\n",
       "</pre>\n"
      ],
      "text/plain": [
       "\u001b[1m Total params: \u001b[0m\u001b[38;5;34m3,557,889\u001b[0m (13.57 MB)\n"
      ]
     },
     "metadata": {},
     "output_type": "display_data"
    },
    {
     "data": {
      "text/html": [
       "<pre style=\"white-space:pre;overflow-x:auto;line-height:normal;font-family:Menlo,'DejaVu Sans Mono',consolas,'Courier New',monospace\"><span style=\"font-weight: bold\"> Trainable params: </span><span style=\"color: #00af00; text-decoration-color: #00af00\">3,557,889</span> (13.57 MB)\n",
       "</pre>\n"
      ],
      "text/plain": [
       "\u001b[1m Trainable params: \u001b[0m\u001b[38;5;34m3,557,889\u001b[0m (13.57 MB)\n"
      ]
     },
     "metadata": {},
     "output_type": "display_data"
    },
    {
     "data": {
      "text/html": [
       "<pre style=\"white-space:pre;overflow-x:auto;line-height:normal;font-family:Menlo,'DejaVu Sans Mono',consolas,'Courier New',monospace\"><span style=\"font-weight: bold\"> Non-trainable params: </span><span style=\"color: #00af00; text-decoration-color: #00af00\">0</span> (0.00 B)\n",
       "</pre>\n"
      ],
      "text/plain": [
       "\u001b[1m Non-trainable params: \u001b[0m\u001b[38;5;34m0\u001b[0m (0.00 B)\n"
      ]
     },
     "metadata": {},
     "output_type": "display_data"
    },
    {
     "name": "stdout",
     "output_type": "stream",
     "text": [
      "Epoch 1/30\n",
      "\u001b[1m257/257\u001b[0m \u001b[32m━━━━━━━━━━━━━━━━━━━━\u001b[0m\u001b[37m\u001b[0m \u001b[1m20s\u001b[0m 77ms/step - accuracy: 0.6179 - loss: 0.6906 - val_accuracy: 0.4959 - val_loss: 0.7250\n",
      "Epoch 2/30\n",
      "\u001b[1m257/257\u001b[0m \u001b[32m━━━━━━━━━━━━━━━━━━━━\u001b[0m\u001b[37m\u001b[0m \u001b[1m18s\u001b[0m 70ms/step - accuracy: 0.6792 - loss: 0.6130 - val_accuracy: 0.7353 - val_loss: 0.5608\n",
      "Epoch 3/30\n",
      "\u001b[1m257/257\u001b[0m \u001b[32m━━━━━━━━━━━━━━━━━━━━\u001b[0m\u001b[37m\u001b[0m \u001b[1m18s\u001b[0m 71ms/step - accuracy: 0.7354 - loss: 0.5320 - val_accuracy: 0.7236 - val_loss: 0.5277\n",
      "Epoch 4/30\n",
      "\u001b[1m257/257\u001b[0m \u001b[32m━━━━━━━━━━━━━━━━━━━━\u001b[0m\u001b[37m\u001b[0m \u001b[1m20s\u001b[0m 77ms/step - accuracy: 0.7963 - loss: 0.4271 - val_accuracy: 0.7319 - val_loss: 0.5359\n",
      "Epoch 5/30\n",
      "\u001b[1m257/257\u001b[0m \u001b[32m━━━━━━━━━━━━━━━━━━━━\u001b[0m\u001b[37m\u001b[0m \u001b[1m19s\u001b[0m 73ms/step - accuracy: 0.8336 - loss: 0.3611 - val_accuracy: 0.8127 - val_loss: 0.4035\n",
      "Epoch 6/30\n",
      "\u001b[1m257/257\u001b[0m \u001b[32m━━━━━━━━━━━━━━━━━━━━\u001b[0m\u001b[37m\u001b[0m \u001b[1m19s\u001b[0m 75ms/step - accuracy: 0.8837 - loss: 0.2745 - val_accuracy: 0.8102 - val_loss: 0.4442\n",
      "Epoch 7/30\n",
      "\u001b[1m257/257\u001b[0m \u001b[32m━━━━━━━━━━━━━━━━━━━━\u001b[0m\u001b[37m\u001b[0m \u001b[1m20s\u001b[0m 76ms/step - accuracy: 0.9132 - loss: 0.2056 - val_accuracy: 0.8287 - val_loss: 0.3997\n",
      "Epoch 8/30\n",
      "\u001b[1m257/257\u001b[0m \u001b[32m━━━━━━━━━━━━━━━━━━━━\u001b[0m\u001b[37m\u001b[0m \u001b[1m18s\u001b[0m 71ms/step - accuracy: 0.9378 - loss: 0.1615 - val_accuracy: 0.8608 - val_loss: 0.3224\n",
      "Epoch 9/30\n",
      "\u001b[1m257/257\u001b[0m \u001b[32m━━━━━━━━━━━━━━━━━━━━\u001b[0m\u001b[37m\u001b[0m \u001b[1m20s\u001b[0m 76ms/step - accuracy: 0.9538 - loss: 0.1199 - val_accuracy: 0.8560 - val_loss: 0.4105\n",
      "Epoch 10/30\n",
      "\u001b[1m257/257\u001b[0m \u001b[32m━━━━━━━━━━━━━━━━━━━━\u001b[0m\u001b[37m\u001b[0m \u001b[1m20s\u001b[0m 76ms/step - accuracy: 0.9564 - loss: 0.1074 - val_accuracy: 0.8394 - val_loss: 0.4334\n",
      "Epoch 11/30\n",
      "\u001b[1m257/257\u001b[0m \u001b[32m━━━━━━━━━━━━━━━━━━━━\u001b[0m\u001b[37m\u001b[0m \u001b[1m19s\u001b[0m 74ms/step - accuracy: 0.9665 - loss: 0.0894 - val_accuracy: 0.9173 - val_loss: 0.2489\n",
      "Epoch 12/30\n",
      "\u001b[1m257/257\u001b[0m \u001b[32m━━━━━━━━━━━━━━━━━━━━\u001b[0m\u001b[37m\u001b[0m \u001b[1m19s\u001b[0m 74ms/step - accuracy: 0.9690 - loss: 0.0772 - val_accuracy: 0.8579 - val_loss: 0.4235\n",
      "Epoch 13/30\n",
      "\u001b[1m257/257\u001b[0m \u001b[32m━━━━━━━━━━━━━━━━━━━━\u001b[0m\u001b[37m\u001b[0m \u001b[1m19s\u001b[0m 72ms/step - accuracy: 0.9725 - loss: 0.0649 - val_accuracy: 0.8574 - val_loss: 0.4844\n",
      "Epoch 14/30\n",
      "\u001b[1m257/257\u001b[0m \u001b[32m━━━━━━━━━━━━━━━━━━━━\u001b[0m\u001b[37m\u001b[0m \u001b[1m18s\u001b[0m 70ms/step - accuracy: 0.9800 - loss: 0.0541 - val_accuracy: 0.7839 - val_loss: 0.7670\n"
     ]
    }
   ],
   "source": [
    "import tensorflow as tf\n",
    "from tensorflow.keras import layers, models\n",
    "from tensorflow.keras.callbacks import EarlyStopping\n",
    "\n",
    "# Define the CNN model architecture\n",
    "model = models.Sequential(\n",
    "    [\n",
    "        layers.Conv2D(\n",
    "            32,\n",
    "            (3, 3),\n",
    "            activation=\"relu\",\n",
    "            padding=\"same\",\n",
    "            input_shape=(128, X_train.shape[2], 1),\n",
    "        ),  # X_train.shape[2] is the time-frame dimension\n",
    "        layers.MaxPooling2D((2, 2)),\n",
    "        layers.Conv2D(64, (3, 3), activation=\"relu\", padding=\"same\"),\n",
    "        layers.MaxPooling2D((2, 2)),\n",
    "        layers.Flatten(),\n",
    "        layers.Dense(64, activation=\"relu\"),\n",
    "        layers.Dropout(0.5),\n",
    "        layers.Dense(\n",
    "            1, activation=\"sigmoid\"\n",
    "        ),  # single output neuron for binary classification\n",
    "    ]\n",
    ")\n",
    "\n",
    "# Compile the model\n",
    "model.compile(optimizer=\"adam\", loss=\"binary_crossentropy\", metrics=[\"accuracy\"])\n",
    "model.summary()  # print model architecture\n",
    "\n",
    "# Define EarlyStopping callback\n",
    "early_stop = EarlyStopping(monitor=\"val_loss\", patience=3, restore_best_weights=True)\n",
    "\n",
    "# Train the model with a validation split for monitoring\n",
    "history = model.fit(\n",
    "    X_train,\n",
    "    y_train,\n",
    "    epochs=30,  # you can adjust the number of epochs\n",
    "    batch_size=32,  # adjust batch size based on data size\n",
    "    validation_split=0.2,  # use 20% of training data for validation\n",
    "    callbacks=[early_stop],\n",
    "    verbose=1,\n",
    ")"
   ]
  },
  {
   "cell_type": "code",
   "execution_count": 33,
   "metadata": {},
   "outputs": [
    {
     "name": "stdout",
     "output_type": "stream",
     "text": [
      "Test Accuracy: 0.82\n",
      "\u001b[1m224/224\u001b[0m \u001b[32m━━━━━━━━━━━━━━━━━━━━\u001b[0m\u001b[37m\u001b[0m \u001b[1m4s\u001b[0m 18ms/step\n",
      "Confusion Matrix (actual vs predicted):\n",
      "[[5140  902]\n",
      " [ 403  700]]\n",
      "Classification Report:\n",
      "              precision    recall  f1-score   support\n",
      "\n",
      "      others       0.93      0.85      0.89      6042\n",
      "   questions       0.44      0.63      0.52      1103\n",
      "\n",
      "    accuracy                           0.82      7145\n",
      "   macro avg       0.68      0.74      0.70      7145\n",
      "weighted avg       0.85      0.82      0.83      7145\n",
      "\n"
     ]
    },
    {
     "data": {
      "image/png": "[encoded data removed]",
      "text/plain": [
       "<Figure size 800x300 with 2 Axes>"
      ]
     },
     "metadata": {},
     "output_type": "display_data"
    }
   ],
   "source": [
    "import matplotlib.pyplot as plt\n",
    "from sklearn.metrics import confusion_matrix, classification_report\n",
    "\n",
    "# Evaluate the model on the test set\n",
    "test_loss, test_accuracy = model.evaluate(X_test, y_test, verbose=0)\n",
    "print(f\"Test Accuracy: {test_accuracy:.2f}\")\n",
    "\n",
    "# Predict classes for test set\n",
    "y_pred_prob = model.predict(X_test)\n",
    "y_pred = (\n",
    "    (y_pred_prob >= 0.5).astype(int).flatten()\n",
    ")  # threshold at 0.5 and convert to 0/1\n",
    "\n",
    "# Confusion matrix\n",
    "cm = confusion_matrix(y_test, y_pred)\n",
    "print(\"Confusion Matrix (actual vs predicted):\")\n",
    "print(cm)\n",
    "\n",
    "# Classification report\n",
    "class_names = [\"others\", \"questions\"]\n",
    "print(\"Classification Report:\")\n",
    "print(classification_report(y_test, y_pred, target_names=class_names))\n",
    "\n",
    "# Plot training & validation loss and accuracy curves\n",
    "plt.figure(figsize=(8, 3))\n",
    "plt.subplot(1, 2, 1)\n",
    "plt.plot(history.history[\"loss\"], label=\"Train Loss\")\n",
    "plt.plot(history.history[\"val_loss\"], label=\"Val Loss\")\n",
    "plt.xlabel(\"Epoch\")\n",
    "plt.ylabel(\"Loss\")\n",
    "plt.legend()\n",
    "plt.title(\"Training vs. Validation Loss\")\n",
    "\n",
    "plt.subplot(1, 2, 2)\n",
    "plt.plot(history.history[\"accuracy\"], label=\"Train Acc\")\n",
    "plt.plot(history.history[\"val_accuracy\"], label=\"Val Acc\")\n",
    "plt.xlabel(\"Epoch\")\n",
    "plt.ylabel(\"Accuracy\")\n",
    "plt.legend()\n",
    "plt.title(\"Training vs. Validation Accuracy\")\n",
    "plt.tight_layout()\n",
    "plt.show()"
   ]
  },
  {
   "cell_type": "code",
   "execution_count": null,
   "metadata": {},
   "outputs": [],
   "source": []
  }
 ],
 "metadata": {
  "kernelspec": {
   "display_name": "venv",
   "language": "python",
   "name": "python3"
  },
  "language_info": {
   "codemirror_mode": {
    "name": "ipython",
    "version": 3
   },
   "file_extension": ".py",
   "mimetype": "text/x-python",
   "name": "python",
   "nbconvert_exporter": "python",
   "pygments_lexer": "ipython3",
   "version": "3.11.12"
  }
 },
 "nbformat": 4,
 "nbformat_minor": 2
}
